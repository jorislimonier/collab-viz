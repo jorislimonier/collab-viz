{
 "cells": [
  {
   "cell_type": "code",
   "execution_count": 1,
   "metadata": {},
   "outputs": [],
   "source": [
    "import pandas as pd\n",
    "import numpy as np"
   ]
  },
  {
   "cell_type": "code",
   "execution_count": 2,
   "metadata": {},
   "outputs": [
    {
     "name": "stderr",
     "output_type": "stream",
     "text": [
      "/home/joris/.local/lib/python3.9/site-packages/IPython/core/interactiveshell.py:3172: DtypeWarning: Columns (5,27) have mixed types.Specify dtype option on import or set low_memory=False.\n",
      "  has_raised = await self.run_ast_nodes(code_ast.body, cell_name,\n",
      "/home/joris/.local/lib/python3.9/site-packages/IPython/core/interactiveshell.py:3172: DtypeWarning: Columns (15,17,20,41,42,43,44,50,67,74) have mixed types.Specify dtype option on import or set low_memory=False.\n",
      "  has_raised = await self.run_ast_nodes(code_ast.body, cell_name,\n",
      "/home/joris/.local/lib/python3.9/site-packages/IPython/core/interactiveshell.py:3172: DtypeWarning: Columns (3,41) have mixed types.Specify dtype option on import or set low_memory=False.\n",
      "  has_raised = await self.run_ast_nodes(code_ast.body, cell_name,\n"
     ]
    }
   ],
   "source": [
    "# assuming the data folders are in your local folder\n",
    "data_albums = pd.read_csv(\"wasabi_albums.csv/wasabi_albums.csv\")\n",
    "data_songs = pd.read_csv(\"wasabi_songs.csv/wasabi_songs.csv\", sep=\"\\t\")\n",
    "data_artists = pd.read_csv(\"wasabi_artists.csv/wasabi_artists.csv\")"
   ]
  },
  {
   "cell_type": "code",
   "execution_count": 43,
   "metadata": {},
   "outputs": [
    {
     "data": {
      "text/plain": [
       "(Index(['id_artist', '_id'], dtype='object'),\n",
       " Index(['members', '_id', 'type', 'gender'], dtype='object'),\n",
       " Index(['genre', 'id_album'], dtype='object'))"
      ]
     },
     "execution_count": 43,
     "metadata": {},
     "output_type": "execute_result"
    }
   ],
   "source": [
    "# Specify the columns you need here\n",
    "cem_col = {\"albums\": [],\n",
    "           \"artists\": [],\n",
    "           \"songs\": []}\n",
    "marlize_col = {\"albums\": [],\n",
    "               \"artists\": [],\n",
    "               \"songs\": []}\n",
    "joris_col = {\"albums\": [\"_id\", \"id_artist\"],\n",
    "             \"artists\": [\"_id\", \"type\", \"gender\", \"members\"],\n",
    "             \"songs\": [\"id_album\", \"genre\"]}\n",
    "ppl_col = [cem_col, marlize_col, joris_col]\n",
    "\n",
    "# get unique values of columns needed\n",
    "albums_col = set(np.concatenate([d[\"albums\"] for d in ppl_col]))\n",
    "songs_col = set(np.concatenate([d[\"songs\"] for d in ppl_col]))\n",
    "artists_col = set(np.concatenate([d[\"artists\"] for d in ppl_col]))\n",
    "\n",
    "# Make df with columns needed\n",
    "df_albums = data_albums[albums_col].copy()\n",
    "df_artists = data_artists[artists_col].copy()\n",
    "df_songs = data_songs[songs_col].copy()\n",
    "df_albums.columns, df_artists.columns, df_songs.columns"
   ]
  },
  {
   "cell_type": "code",
   "execution_count": 46,
   "metadata": {},
   "outputs": [
    {
     "data": {
      "text/html": [
       "<div>\n",
       "<style scoped>\n",
       "    .dataframe tbody tr th:only-of-type {\n",
       "        vertical-align: middle;\n",
       "    }\n",
       "\n",
       "    .dataframe tbody tr th {\n",
       "        vertical-align: top;\n",
       "    }\n",
       "\n",
       "    .dataframe thead th {\n",
       "        text-align: right;\n",
       "    }\n",
       "</style>\n",
       "<table border=\"1\" class=\"dataframe\">\n",
       "  <thead>\n",
       "    <tr style=\"text-align: right;\">\n",
       "      <th></th>\n",
       "      <th>genre</th>\n",
       "      <th>id_album</th>\n",
       "    </tr>\n",
       "  </thead>\n",
       "  <tbody>\n",
       "    <tr>\n",
       "      <th>0</th>\n",
       "      <td>NaN</td>\n",
       "      <td>ObjectId(5714debb25ac0d8aee34d59a)</td>\n",
       "    </tr>\n",
       "    <tr>\n",
       "      <th>1</th>\n",
       "      <td>NaN</td>\n",
       "      <td>ObjectId(5714debb25ac0d8aee34d59a)</td>\n",
       "    </tr>\n",
       "    <tr>\n",
       "      <th>2</th>\n",
       "      <td>NaN</td>\n",
       "      <td>ObjectId(5714debb25ac0d8aee34d59a)</td>\n",
       "    </tr>\n",
       "    <tr>\n",
       "      <th>3</th>\n",
       "      <td>NaN</td>\n",
       "      <td>ObjectId(5714debb25ac0d8aee34d59a)</td>\n",
       "    </tr>\n",
       "    <tr>\n",
       "      <th>4</th>\n",
       "      <td>NaN</td>\n",
       "      <td>ObjectId(5714debb25ac0d8aee34d59a)</td>\n",
       "    </tr>\n",
       "  </tbody>\n",
       "</table>\n",
       "</div>"
      ],
      "text/plain": [
       "  genre                            id_album\n",
       "0   NaN  ObjectId(5714debb25ac0d8aee34d59a)\n",
       "1   NaN  ObjectId(5714debb25ac0d8aee34d59a)\n",
       "2   NaN  ObjectId(5714debb25ac0d8aee34d59a)\n",
       "3   NaN  ObjectId(5714debb25ac0d8aee34d59a)\n",
       "4   NaN  ObjectId(5714debb25ac0d8aee34d59a)"
      ]
     },
     "execution_count": 46,
     "metadata": {},
     "output_type": "execute_result"
    }
   ],
   "source": [
    "df_songs.head()"
   ]
  }
 ],
 "metadata": {
  "interpreter": {
   "hash": "f9f85f796d01129d0dd105a088854619f454435301f6ffec2fea96ecbd9be4ac"
  },
  "kernelspec": {
   "display_name": "Python 3.9.7 64-bit",
   "name": "python3"
  },
  "language_info": {
   "codemirror_mode": {
    "name": "ipython",
    "version": 3
   },
   "file_extension": ".py",
   "mimetype": "text/x-python",
   "name": "python",
   "nbconvert_exporter": "python",
   "pygments_lexer": "ipython3",
   "version": "3.9.7"
  },
  "orig_nbformat": 4
 },
 "nbformat": 4,
 "nbformat_minor": 2
}
