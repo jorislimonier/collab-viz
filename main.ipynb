{
 "cells": [
  {
   "cell_type": "code",
   "execution_count": 1,
   "metadata": {},
   "outputs": [],
   "source": [
    "import pandas as pd\n",
    "import numpy as np"
   ]
  },
  {
   "cell_type": "code",
   "execution_count": 2,
   "metadata": {},
   "outputs": [
    {
     "name": "stderr",
     "output_type": "stream",
     "text": [
      "/home/joris/.local/lib/python3.9/site-packages/IPython/core/interactiveshell.py:3172: DtypeWarning: Columns (5,27) have mixed types.Specify dtype option on import or set low_memory=False.\n",
      "  has_raised = await self.run_ast_nodes(code_ast.body, cell_name,\n",
      "/home/joris/.local/lib/python3.9/site-packages/IPython/core/interactiveshell.py:3172: DtypeWarning: Columns (15,17,20,41,42,43,44,50,67,74) have mixed types.Specify dtype option on import or set low_memory=False.\n",
      "  has_raised = await self.run_ast_nodes(code_ast.body, cell_name,\n",
      "/home/joris/.local/lib/python3.9/site-packages/IPython/core/interactiveshell.py:3172: DtypeWarning: Columns (3,41) have mixed types.Specify dtype option on import or set low_memory=False.\n",
      "  has_raised = await self.run_ast_nodes(code_ast.body, cell_name,\n"
     ]
    }
   ],
   "source": [
    "# assuming the data folders are in your local folder\n",
    "data_albums = pd.read_csv(\"wasabi_albums.csv/wasabi_albums.csv\")\n",
    "data_songs = pd.read_csv(\"wasabi_songs.csv/wasabi_songs.csv\", sep=\"\\t\")\n",
    "data_artists = pd.read_csv(\"wasabi_artists.csv/wasabi_artists.csv\")"
   ]
  },
  {
   "cell_type": "code",
   "execution_count": 34,
   "metadata": {},
   "outputs": [
    {
     "name": "stdout",
     "output_type": "stream",
     "text": [
      "{'id_artist', '_id'} set() set()\n"
     ]
    }
   ],
   "source": [
    "# Specify the columns you need here\n",
    "cem_col = {\"albums\": [],\n",
    "           \"songs\": [],\n",
    "           \"artists\": []}\n",
    "marlize_col = {\"albums\": [],\n",
    "               \"songs\": [],\n",
    "               \"artists\": []}\n",
    "joris_col = {\"albums\": [],\n",
    "             \"songs\": [],\n",
    "             \"artists\": []}\n",
    "ppl_col = [cem_col, marlize_col, joris_col]\n",
    "\n",
    "# get unique values of columns needed\n",
    "albums_col = set(np.concatenate([d[\"albums\"] for d in ppl_col]))\n",
    "songs_col = set(np.concatenate([d[\"songs\"] for d in ppl_col]))\n",
    "artists_col = set(np.concatenate([d[\"artists\"] for d in ppl_col]))\n",
    "\n",
    "# Make df with columns needed\n",
    "df_albums = data_albums[albums_col].copy()\n",
    "df_artists = data_artists[artists_col].copy()\n",
    "df_songs = data_songs[songs_col].copy()\n"
   ]
  },
  {
   "cell_type": "code",
   "execution_count": null,
   "metadata": {},
   "outputs": [],
   "source": []
  }
 ],
 "metadata": {
  "interpreter": {
   "hash": "f9f85f796d01129d0dd105a088854619f454435301f6ffec2fea96ecbd9be4ac"
  },
  "kernelspec": {
   "display_name": "Python 3.9.7 64-bit",
   "name": "python3"
  },
  "language_info": {
   "codemirror_mode": {
    "name": "ipython",
    "version": 3
   },
   "file_extension": ".py",
   "mimetype": "text/x-python",
   "name": "python",
   "nbconvert_exporter": "python",
   "pygments_lexer": "ipython3",
   "version": "3.9.7"
  },
  "orig_nbformat": 4
 },
 "nbformat": 4,
 "nbformat_minor": 2
}
