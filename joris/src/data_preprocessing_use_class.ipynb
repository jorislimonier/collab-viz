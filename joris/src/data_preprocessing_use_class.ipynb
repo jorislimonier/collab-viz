{
 "cells": [
  {
   "cell_type": "markdown",
   "metadata": {},
   "source": [
    "**Questions:**\n",
    "- Should flow go\n",
    "    - is_band $\\to$ nb_albums, or\n",
    "    - is_band $\\to$ unknown_gender $\\to$ nb_albums?\n",
    "- "
   ]
  },
  {
   "cell_type": "code",
   "execution_count": null,
   "metadata": {},
   "outputs": [],
   "source": [
    "import pandas as pd\n",
    "import numpy as np\n",
    "import load_data as ld\n",
    "import sankey as sk\n",
    "\n",
    "import importlib\n",
    "importlib.reload(sk)\n",
    "importlib.reload(ld)"
   ]
  },
  {
   "cell_type": "code",
   "execution_count": null,
   "metadata": {},
   "outputs": [],
   "source": [
    "# try:\n",
    "#     display(LoadData.albums_data.head(2))\n",
    "# except AttributeError:\n",
    "#     LoadData.load_albums_data()\n",
    "#     display(LoadData.albums_data.head(2))\n",
    "\n",
    "# try:\n",
    "#     display(LoadData.artists_data.head(2))\n",
    "# except AttributeError:\n",
    "#     LoadData.load_artists_data()\n",
    "#     display(LoadData.artists_data.head(2))\n",
    "\n",
    "# try:\n",
    "#     display(LoadData.songs_data.head(2))\n",
    "# except AttributeError:\n",
    "#     LoadData.load_songs_data()\n",
    "#     display(LoadData.songs_data.head(2))\n"
   ]
  },
  {
   "cell_type": "markdown",
   "metadata": {},
   "source": [
    "# Type $\\to$ gender"
   ]
  },
  {
   "cell_type": "code",
   "execution_count": null,
   "metadata": {},
   "outputs": [],
   "source": [
    "sankey_diag = sk.Sankey()\n",
    "type_gender = sk.TypeGender()\n",
    "display(type_gender.df)\n",
    "display(sankey_diag.sankey_df)"
   ]
  },
  {
   "cell_type": "markdown",
   "metadata": {},
   "source": [
    "# Gender $\\to$ nb_albums"
   ]
  },
  {
   "cell_type": "code",
   "execution_count": null,
   "metadata": {},
   "outputs": [],
   "source": [
    "ld.LoadData.load_albums_data()\n",
    "ld.LoadData.load_artists_data()\n",
    "display(ld.LoadData.albums_data.head(2), ld.LoadData.artists_data.head(2))\n"
   ]
  },
  {
   "cell_type": "code",
   "execution_count": null,
   "metadata": {},
   "outputs": [],
   "source": [
    "df_albums = (albums_data\n",
    "    .copy()\n",
    "    .groupby(\"id_artist\").count()\n",
    "    .rename(columns={\"_id\": \"nb_albums\"})\n",
    "    .reset_index())\n",
    "    \n",
    "df_albums[\"id_artist\"] = [element if element.startswith(\n",
    "    \"ObjectId(\") else \"ObjectId(\"+element+\")\" for element in df_albums[\"id_artist\"]]\n",
    "\n",
    "df_albums\n"
   ]
  },
  {
   "cell_type": "code",
   "execution_count": null,
   "metadata": {},
   "outputs": [],
   "source": [
    "df_artists = (artists_data\n",
    "    .copy()\n",
    "    .rename(columns={\"_id\":\"id_artist\"})\n",
    "    [[\"id_artist\", \"gender\"]])\n",
    "\n",
    "df_artists"
   ]
  },
  {
   "cell_type": "code",
   "execution_count": null,
   "metadata": {},
   "outputs": [],
   "source": [
    "l1 = np.array(df_albums.index)\n",
    "l2 = np.array(df_artists.index)\n",
    "set(l1).symmetric_difference(set(l2))"
   ]
  },
  {
   "cell_type": "code",
   "execution_count": null,
   "metadata": {},
   "outputs": [],
   "source": [
    "df_artists"
   ]
  },
  {
   "cell_type": "code",
   "execution_count": null,
   "metadata": {},
   "outputs": [],
   "source": [
    "df = df_artists.copy()\n",
    "df = df.merge(df_albums, on=\"id_artist\", how=\"outer\")\n",
    "df = df.fillna({col: \"unknown_\"+col for col in df.columns})\n",
    "df = df.replace({col: {\"Other\": \"unknown_\"+col for _ in df.columns} for col in df.columns})\n",
    "df = df.drop(columns=\"id_artist\")\n",
    "df = df.value_counts()\n",
    "df = df.reset_index()\n",
    "df.columns = sankey_col\n",
    "df"
   ]
  },
  {
   "cell_type": "code",
   "execution_count": null,
   "metadata": {},
   "outputs": [],
   "source": [
    "def make_bins_nb_albums(nb_albums):\n",
    "    bin_max = 10\n",
    "    if nb_albums < 10:\n",
    "        return int(nb_albums)\n",
    "    else:\n",
    "        return bin_max\n",
    "\n",
    "\n",
    "def name_album_bins(nb_albums):\n",
    "    bin_max = 10\n",
    "    if nb_albums <= 1:\n",
    "        return f\"{nb_albums} album\"\n",
    "    elif nb_albums < 10:\n",
    "        return f\"{nb_albums} albums\"\n",
    "    else:\n",
    "        return f\"{bin_max}+ albums\"\n",
    "\n",
    "\n",
    "# Make bins\n",
    "# df[\"target\"] = df[\"target\"].apply(lambda x: np.round(x, decimals=-1))\n",
    "df[\"target\"] = df[\"target\"].apply(make_bins_nb_albums)\n",
    "df = df.groupby([\"source\", \"target\"])\n",
    "df = df.sum()\n",
    "df = df.reset_index()\n",
    "df = df.sort_values(\"target\")\n",
    "df[\"target\"] = df[\"target\"].apply(name_album_bins)\n",
    "# df\n"
   ]
  },
  {
   "cell_type": "code",
   "execution_count": null,
   "metadata": {},
   "outputs": [],
   "source": [
    "(np.ceil(0/5)*5).astype(int)-1"
   ]
  },
  {
   "cell_type": "code",
   "execution_count": null,
   "metadata": {},
   "outputs": [],
   "source": [
    "sankey_df = sankey_df.append(df)\n",
    "sankey_df.head(70)"
   ]
  },
  {
   "cell_type": "code",
   "execution_count": null,
   "metadata": {},
   "outputs": [],
   "source": [
    "sankey_df.to_csv(\"sankey.csv\", index=False)"
   ]
  },
  {
   "cell_type": "markdown",
   "metadata": {},
   "source": [
    "# Nb albums $\\to$ nb songs"
   ]
  },
  {
   "cell_type": "code",
   "execution_count": null,
   "metadata": {},
   "outputs": [],
   "source": [
    "df_songs = (songs_data\n",
    "      .copy()\n",
    "      [[\"id_album\"]])\n",
    "\n",
    "# add ObjectIt to cells missing it\n",
    "df_songs[\"id_album\"] = [element if element.startswith(\n",
    "    \"ObjectId(\") else \"ObjectId(\"+element+\")\" for element in df_songs[\"id_album\"]]\n",
    "pd.DataFrame(df_songs.value_counts()).reset_index()\n"
   ]
  }
 ],
 "metadata": {
  "interpreter": {
   "hash": "f9f85f796d01129d0dd105a088854619f454435301f6ffec2fea96ecbd9be4ac"
  },
  "kernelspec": {
   "display_name": "Python 3.9.7 64-bit",
   "name": "python3"
  },
  "language_info": {
   "codemirror_mode": {
    "name": "ipython",
    "version": 3
   },
   "file_extension": ".py",
   "mimetype": "text/x-python",
   "name": "python",
   "nbconvert_exporter": "python",
   "pygments_lexer": "ipython3",
   "version": "3.9.9"
  }
 },
 "nbformat": 4,
 "nbformat_minor": 2
}
